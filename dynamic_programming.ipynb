{
 "cells": [
  {
   "cell_type": "code",
   "execution_count": 7,
   "source": [
    "import numpy as np\r\n",
    "import dynamic_programming_helpers as dp\r\n",
    "from importlib import reload\r\n",
    "reload(dp)"
   ],
   "outputs": [
    {
     "output_type": "execute_result",
     "data": {
      "text/plain": [
       "<module 'dynamic_programming_helpers' from 'c:\\\\Users\\\\10326917\\\\OneDrive - BD\\\\Documents\\\\Project\\\\Data\\\\dynamic_programming_helpers.py'>"
      ]
     },
     "metadata": {},
     "execution_count": 7
    }
   ],
   "metadata": {}
  },
  {
   "cell_type": "markdown",
   "source": [
    "## First test: no demand, no inventory\r\n",
    "expected result: cost-to-go = 0"
   ],
   "metadata": {}
  },
  {
   "cell_type": "code",
   "execution_count": 28,
   "source": [
    "pi_0 = 1 # probability of 0 demand\r\n",
    "pi_p = 0 # probability of demand by premium customer\r\n",
    "pi_b = 0 # probability of base customer\r\n",
    "h = 0 # daily unit holding cost\r\n",
    "c_p = 1 # daily unit penalty for not fulfilling a premium order (c_p is payed once per day and per unit unfulfilled)\r\n",
    "c_b = 1 # daily unit penalty for not fulfilling a base order (c_b is payed once per day and per unit unfulfilled)\r\n",
    "s_p = 0 # unit penalty for not having fulfilled a premium order by the last day\r\n",
    "salvage = 0 # unit salvage value for inventory unused by last day\r\n",
    "T = np.array([5, 5]) # length of periods between replenishement arrival\r\n",
    "n_init = 0 # initial inventory\r\n",
    "Q = np.array([0]) # replenishment quantities\r\n",
    "\r\n",
    "r_p = np.array([[1, 1]]).astype(object) # discreate probability distribution of premium demand (the format is [value of random variable, proba])\r\n",
    "r_p[:, 0] = r_p[:, 0].astype(int) # cast the first colum as integer\r\n",
    "r_b = np.array([[1, 1]]).astype(object) # discreate probability distribution of base demand\r\n",
    "r_b[:, 0] = r_b[:, 0].astype(int) # cast the first colum as integer"
   ],
   "outputs": [],
   "metadata": {}
  },
  {
   "cell_type": "code",
   "execution_count": 29,
   "source": [
    "program = dp.DynamicProgram(T, n_init, Q, pi_0, pi_b, r_b, pi_p, r_p, h, c_b, c_p, s_p, salvage, mode='standard')\r\n",
    "program.V()"
   ],
   "outputs": [
    {
     "output_type": "execute_result",
     "data": {
      "text/plain": [
       "0"
      ]
     },
     "metadata": {},
     "execution_count": 29
    }
   ],
   "metadata": {}
  },
  {
   "cell_type": "markdown",
   "source": [
    "## Second test: premium customer group demand of one unit on every day with no holding cost, no salvage value, no final penalty, no base customer group demand, no initial inventory and no replenishments\r\n",
    "expected result: cost-to-go = 15"
   ],
   "metadata": {}
  },
  {
   "cell_type": "code",
   "execution_count": 33,
   "source": [
    "pi_0 = 0 # probability of 0 demand\r\n",
    "pi_p = 1 # probability of demand by premium customer\r\n",
    "pi_b = 0 # probability of base customer\r\n",
    "h = 0 # daily unit holding cost\r\n",
    "c_p = 1 # daily unit penalty for not fulfilling a premium order (c_p is payed once per day and per unit unfulfilled)\r\n",
    "c_b = 0 # daily unit penalty for not fulfilling a base order (c_b is payed once per day and per unit unfulfilled)\r\n",
    "s_p = 0 # unit penalty for not having fulfilled a premium order by the last day\r\n",
    "salvage = 0 # unit salvage value for inventory unused by last day\r\n",
    "T = np.array([2, 3]) # length of periods between replenishement arrival\r\n",
    "n_init = 0 # initial inventory\r\n",
    "Q = np.array([0]) # replenishment quantities\r\n",
    "\r\n",
    "r_p = np.array([[1, 1]]).astype(object) # discreate probability distribution of premium demand (the format is [value of random variable, proba])\r\n",
    "r_p[:, 0] = r_p[:, 0].astype(int) # cast the first colum as integer\r\n",
    "r_b = np.array([[0, 1]]).astype(object) # discreate probability distribution of base demand\r\n",
    "r_b[:, 0] = r_b[:, 0].astype(int) # cast the first colum as integer"
   ],
   "outputs": [],
   "metadata": {}
  },
  {
   "cell_type": "code",
   "execution_count": 42,
   "source": [
    "program = dp.DynamicProgram(T, n_init, Q, pi_0, pi_b, r_b, pi_p, r_p, h, c_b, c_p, s_p, salvage)\r\n",
    "program.V()"
   ],
   "outputs": [
    {
     "output_type": "execute_result",
     "data": {
      "text/plain": [
       "15"
      ]
     },
     "metadata": {},
     "execution_count": 42
    }
   ],
   "metadata": {}
  },
  {
   "cell_type": "markdown",
   "source": [
    "## Third test: base customer group demand of one unit on every day with no holding cost, no salvage value, no final penalty, no premium customer group demand, no initial inventory and no replenishments\r\n",
    "expected result: cost-to-go = 15"
   ],
   "metadata": {}
  },
  {
   "cell_type": "code",
   "execution_count": 43,
   "source": [
    "pi_0 = 0 # probability of 0 demand\r\n",
    "pi_p = 0 # probability of demand by premium customer\r\n",
    "pi_b = 1 # probability of base customer\r\n",
    "h = 0 # daily unit holding cost\r\n",
    "c_p = 0 # daily unit penalty for not fulfilling a premium order (c_p is payed once per day and per unit unfulfilled)\r\n",
    "c_b = 1 # daily unit penalty for not fulfilling a base order (c_b is payed once per day and per unit unfulfilled)\r\n",
    "s_p = 0 # unit penalty for not having fulfilled a premium order by the last day\r\n",
    "salvage = 0 # unit salvage value for inventory unused by last day\r\n",
    "T = np.array([2, 3]) # length of periods between replenishement arrival\r\n",
    "n_init = 0 # initial inventory\r\n",
    "Q = np.array([0]) # replenishment quantities\r\n",
    "\r\n",
    "r_p = np.array([[0, 1]]).astype(object) # discreate probability distribution of premium demand (the format is [value of random variable, proba])\r\n",
    "r_p[:, 0] = r_p[:, 0].astype(int) # cast the first colum as integer\r\n",
    "r_b = np.array([[1, 1]]).astype(object) # discreate probability distribution of base demand\r\n",
    "r_b[:, 0] = r_b[:, 0].astype(int) # cast the first colum as integer"
   ],
   "outputs": [],
   "metadata": {}
  },
  {
   "cell_type": "code",
   "execution_count": 44,
   "source": [
    "program = dp.DynamicProgram(T, n_init, Q, pi_0, pi_b, r_b, pi_p, r_p, h, c_b, c_p, s_p, salvage)\r\n",
    "program.V()"
   ],
   "outputs": [
    {
     "output_type": "execute_result",
     "data": {
      "text/plain": [
       "15"
      ]
     },
     "metadata": {},
     "execution_count": 44
    }
   ],
   "metadata": {}
  },
  {
   "cell_type": "markdown",
   "source": [
    "## Fourth test: 50% chance of base customer group demand of one unit on every day and 50% base customer group demand of one unit on every day with no holding cost, no salvage value, no final penalty, penalty for base and premium is 1, no initial inventory and no replenishments\r\n",
    "expected result: cost-to-go = 15"
   ],
   "metadata": {}
  },
  {
   "cell_type": "code",
   "execution_count": 121,
   "source": [
    "pi_0 = 0 # probability of 0 demand\r\n",
    "pi_p = 0.5 # probability of demand by premium customer\r\n",
    "pi_b = 0.5 # probability of base customer\r\n",
    "h = 0 # daily unit holding cost\r\n",
    "c_p = 1 # daily unit penalty for not fulfilling a premium order (c_p is payed once per day and per unit unfulfilled)\r\n",
    "c_b = 1 # daily unit penalty for not fulfilling a base order (c_b is payed once per day and per unit unfulfilled)\r\n",
    "s_p = 0 # unit penalty for not having fulfilled a premium order by the last day\r\n",
    "salvage = 0 # unit salvage value for inventory unused by last day\r\n",
    "T = np.array([3, 2]) # length of periods between replenishement arrival\r\n",
    "n_init = 0 # initial inventory\r\n",
    "Q = np.array([0]) # replenishment quantities\r\n",
    "\r\n",
    "r_p = np.array([[1, 1]]).astype(object) # discreate probability distribution of premium demand (the format is [value of random variable, proba])\r\n",
    "r_p[:, 0] = r_p[:, 0].astype(int) # cast the first colum as integer\r\n",
    "r_b = np.array([[1, 1]]).astype(object) # discreate probability distribution of base demand\r\n",
    "r_b[:, 0] = r_b[:, 0].astype(int) # cast the first colum as integer"
   ],
   "outputs": [],
   "metadata": {}
  },
  {
   "cell_type": "code",
   "execution_count": 122,
   "source": [
    "program = dp.DynamicProgram(T, n_init, Q, pi_0, pi_b, r_b, pi_p, r_p, h, c_b, c_p, s_p, salvage)\r\n",
    "program.V()"
   ],
   "outputs": [
    {
     "output_type": "execute_result",
     "data": {
      "text/plain": [
       "15.0"
      ]
     },
     "metadata": {},
     "execution_count": 122
    }
   ],
   "metadata": {}
  },
  {
   "cell_type": "markdown",
   "source": [
    "## Fifth test: no orders, holding cost of 1, initial inventory of 1 (was checked by setting pi_0, pi_p and pi_b such that their sum is equal to 1)\r\n",
    "expected result: cost-to-go = 5"
   ],
   "metadata": {}
  },
  {
   "cell_type": "code",
   "execution_count": 123,
   "source": [
    "pi_0 = 1/3 # probability of 0 demand\r\n",
    "pi_p = 1/3 # probability of demand by premium customer\r\n",
    "pi_b = 1/3 # probability of base customer\r\n",
    "h = 1 # daily unit holding cost\r\n",
    "c_p = 0 # daily unit penalty for not fulfilling a premium order (c_p is payed once per day and per unit unfulfilled)\r\n",
    "c_b = 0 # daily unit penalty for not fulfilling a base order (c_b is payed once per day and per unit unfulfilled)\r\n",
    "s_p = 0 # unit penalty for not having fulfilled a premium order by the last day\r\n",
    "salvage = 0 # unit salvage value for inventory unused by last day\r\n",
    "T = np.array([2, 3]) # length of periods between replenishement arrival\r\n",
    "n_init = 1 # initial inventory\r\n",
    "Q = np.array([0]) # replenishment quantities\r\n",
    "\r\n",
    "r_p = np.array([[0, 1]]).astype(object) # discreate probability distribution of premium demand (the format is [value of random variable, proba])\r\n",
    "r_p[:, 0] = r_p[:, 0].astype(int) # cast the first colum as integer\r\n",
    "r_b = np.array([[0, 1]]).astype(object) # discreate probability distribution of base demand\r\n",
    "r_b[:, 0] = r_b[:, 0].astype(int) # cast the first colum as integer"
   ],
   "outputs": [],
   "metadata": {}
  },
  {
   "cell_type": "code",
   "execution_count": 124,
   "source": [
    "program = dp.DynamicProgram(T, n_init, Q, pi_0, pi_b, r_b, pi_p, r_p, h, c_b, c_p, s_p, salvage)\r\n",
    "program.V()"
   ],
   "outputs": [
    {
     "output_type": "execute_result",
     "data": {
      "text/plain": [
       "5.0"
      ]
     },
     "metadata": {},
     "execution_count": 124
    }
   ],
   "metadata": {}
  },
  {
   "cell_type": "markdown",
   "source": [
    "## Sixth test: no orders, holding cost of 1 (was checked by setting pi_0, pi_p and pi_b such that their sum is equal to 1), initial inventory is 0 and replenishment of 1\r\n",
    "expected result: cost-to-go = 3"
   ],
   "metadata": {}
  },
  {
   "cell_type": "code",
   "execution_count": 125,
   "source": [
    "pi_0 = 1/3 # probability of 0 demand\r\n",
    "pi_p = 1/3 # probability of demand by premium customer\r\n",
    "pi_b = 1/3 # probability of base customer\r\n",
    "h = 1 # daily unit holding cost\r\n",
    "c_p = 0 # daily unit penalty for not fulfilling a premium order (c_p is payed once per day and per unit unfulfilled)\r\n",
    "c_b = 0 # daily unit penalty for not fulfilling a base order (c_b is payed once per day and per unit unfulfilled)\r\n",
    "s_p = 0 # unit penalty for not having fulfilled a premium order by the last day\r\n",
    "salvage = 0 # unit salvage value for inventory unused by last day\r\n",
    "T = np.array([2, 3]) # length of periods between replenishement arrival\r\n",
    "n_init = 0 # initial inventory\r\n",
    "Q = np.array([1]) # replenishment quantities\r\n",
    "\r\n",
    "r_p = np.array([[0, 1]]).astype(object) # discreate probability distribution of premium demand (the format is [value of random variable, proba])\r\n",
    "r_p[:, 0] = r_p[:, 0].astype(int) # cast the first colum as integer\r\n",
    "r_b = np.array([[0, 1]]).astype(object) # discreate probability distribution of base demand\r\n",
    "r_b[:, 0] = r_b[:, 0].astype(int) # cast the first colum as integer"
   ],
   "outputs": [],
   "metadata": {}
  },
  {
   "cell_type": "code",
   "execution_count": 126,
   "source": [
    "program = dp.DynamicProgram(T, n_init, Q, pi_0, pi_b, r_b, pi_p, r_p, h, c_b, c_p, s_p, salvage)\r\n",
    "program.V()"
   ],
   "outputs": [
    {
     "output_type": "execute_result",
     "data": {
      "text/plain": [
       "3.0"
      ]
     },
     "metadata": {},
     "execution_count": 126
    }
   ],
   "metadata": {}
  },
  {
   "cell_type": "markdown",
   "source": [
    "## Seventh test: premium customer group demand of one unit on every day, premium customer penalty of 1, holding cost of 1, initial inventory is 0 and replenishment of 2\r\n",
    "expected result: cost-to-go = 9"
   ],
   "metadata": {}
  },
  {
   "cell_type": "code",
   "execution_count": 127,
   "source": [
    "pi_0 = 0 # probability of 0 demand\r\n",
    "pi_p = 1 # probability of demand by premium customer\r\n",
    "pi_b = 0 # probability of base customer\r\n",
    "h = 1 # daily unit holding cost\r\n",
    "c_p = 1 # daily unit penalty for not fulfilling a premium order (c_p is payed once per day and per unit unfulfilled)\r\n",
    "c_b = 0 # daily unit penalty for not fulfilling a base order (c_b is payed once per day and per unit unfulfilled)\r\n",
    "s_p = 0 # unit penalty for not having fulfilled a premium order by the last day\r\n",
    "salvage = 0 # unit salvage value for inventory unused by last day\r\n",
    "T = np.array([2, 3]) # length of periods between replenishement arrival\r\n",
    "n_init = 0 # initial inventory\r\n",
    "Q = np.array([2]) # replenishment quantities\r\n",
    "\r\n",
    "r_p = np.array([[1, 1]]).astype(object) # discreate probability distribution of premium demand (the format is [value of random variable, proba])\r\n",
    "r_p[:, 0] = r_p[:, 0].astype(int) # cast the first colum as integer\r\n",
    "r_b = np.array([[0, 1]]).astype(object) # discreate probability distribution of base demand\r\n",
    "r_b[:, 0] = r_b[:, 0].astype(int) # cast the first colum as integer"
   ],
   "outputs": [],
   "metadata": {}
  },
  {
   "cell_type": "code",
   "execution_count": 128,
   "source": [
    "program = dp.DynamicProgram(T, n_init, Q, pi_0, pi_b, r_b, pi_p, r_p, h, c_b, c_p, s_p, salvage)\r\n",
    "program.V()"
   ],
   "outputs": [
    {
     "output_type": "execute_result",
     "data": {
      "text/plain": [
       "9"
      ]
     },
     "metadata": {},
     "execution_count": 128
    }
   ],
   "metadata": {}
  },
  {
   "cell_type": "markdown",
   "source": [
    "## Comparison of DP solution to myopic premium first"
   ],
   "metadata": {}
  },
  {
   "cell_type": "code",
   "execution_count": null,
   "source": [
    "# need to compare the result of dynamic programming to FCFS on examples of daily orders\r\n",
    "# to do this need to:\r\n",
    "# compute FCFS penalty\r\n",
    "# compute DP penalty by obtaining the decision i.e. the minimum values of the minimization problems"
   ],
   "outputs": [],
   "metadata": {}
  },
  {
   "cell_type": "code",
   "execution_count": 48,
   "source": [
    "h = 0 # daily unit holding cost\r\n",
    "c_p = 2 # daily unit penalty for not fulfilling a premium order (c_p is payed once per day and per unit unfulfilled)\r\n",
    "c_b = 0.5 # daily unit penalty for not fulfilling a base order (c_b is payed once per day and per unit unfulfilled)\r\n",
    "s_p = 0 # unit penalty for not having fulfilled a premium order by the last day\r\n",
    "salvage = 0 # unit salvage value for inventory unused by last day\r\n",
    "T = np.array([5]) # length of periods between replenishement arrival\r\n",
    "n_init = 9 # initial inventory\r\n",
    "Q = np.array([]) # replenishment quantities\r\n",
    "\r\n",
    "premium_demand = np.array([[0, 0, 1, 5, 3]])\r\n",
    "base_demand = np.array([[2, 4, 0, 0, 0]])"
   ],
   "outputs": [],
   "metadata": {}
  },
  {
   "cell_type": "code",
   "execution_count": 49,
   "source": [
    "mpf_cost = 0 # mpf stands for myopic premium first; this allocation strategy fills the premium orders first and the the base orders but doesn't reserve inventory\r\n",
    "n = n_init\r\n",
    "total_premium_not_filled = 0\r\n",
    "total_base_not_filled = 0\r\n",
    "for  period in range(len(T)):\r\n",
    "    for day in range(T[period]):\r\n",
    "        premium_demand_filled = min(premium_demand[period][day], max(0, n)) # equal to the demand if n is larger than the demand, equal to n if n is smaller than the demand but positiv and equal to 0 if n is negativ\r\n",
    "        total_premium_not_filled = total_premium_not_filled + premium_demand[period][day] - premium_demand_filled\r\n",
    "        n = n - premium_demand_filled\r\n",
    "        base_demand_filled = min(base_demand[period][day], max(0, n))\r\n",
    "        total_base_not_filled = total_base_not_filled + base_demand[period][day] - base_demand_filled\r\n",
    "        n = n - base_demand_filled\r\n",
    "        mpf_cost = mpf_cost + h * max(0, n) + c_p * total_premium_not_filled + c_b * total_base_not_filled\r\n",
    "        print('n: ', n)\r\n",
    "        print('total_premium_demand_not_filled: ', total_premium_not_filled)\r\n",
    "        print('total_base_demand_not_filled: ', total_base_not_filled)\r\n",
    "        print('mpf_cost: ', mpf_cost)\r\n",
    "    if not period == len(Q):\r\n",
    "        n = n + Q[period -1]\r\n",
    "\r\n",
    "mpf_cost"
   ],
   "outputs": [
    {
     "output_type": "stream",
     "name": "stdout",
     "text": [
      "n:  7\n",
      "total_premium_demand_not_filled:  0\n",
      "total_base_demand_not_filled:  0\n",
      "mpf_cost:  0.0\n",
      "n:  3\n",
      "total_premium_demand_not_filled:  0\n",
      "total_base_demand_not_filled:  0\n",
      "mpf_cost:  0.0\n",
      "n:  2\n",
      "total_premium_demand_not_filled:  0\n",
      "total_base_demand_not_filled:  0\n",
      "mpf_cost:  0.0\n",
      "n:  0\n",
      "total_premium_demand_not_filled:  3\n",
      "total_base_demand_not_filled:  0\n",
      "mpf_cost:  6.0\n",
      "n:  0\n",
      "total_premium_demand_not_filled:  6\n",
      "total_base_demand_not_filled:  0\n",
      "mpf_cost:  18.0\n"
     ]
    },
    {
     "output_type": "execute_result",
     "data": {
      "text/plain": [
       "18.0"
      ]
     },
     "metadata": {},
     "execution_count": 49
    }
   ],
   "metadata": {}
  },
  {
   "cell_type": "code",
   "execution_count": 50,
   "source": [
    "pi_0 = 0 # probability of 0 demand\r\n",
    "pi_p = 3/5 # probability of demand by premium customer\r\n",
    "pi_b = 2/5 # probability of base customer\r\n",
    "\r\n",
    "r_p = np.array([[1, 1/3], [3, 1/3], [5, 1/3]]).astype(object) # discreate probability distribution of premium demand (the format is [value of random variable, proba])\r\n",
    "r_p[:, 0] = r_p[:, 0].astype(int) # cast the first colum as integer\r\n",
    "r_b = np.array([[2, 1/2], [4, 1/2]]).astype(object) # discreate probability distribution of base demand\r\n",
    "r_b[:, 0] = r_b[:, 0].astype(int) # cast the first colum as integer\r\n",
    "\r\n",
    "program = dp.DynamicProgram(T, n_init, Q, pi_0, pi_b, r_b, pi_p, r_p, h, c_b, c_p, s_p, salvage, 'standard')\r\n",
    "program.V()"
   ],
   "outputs": [
    {
     "output_type": "execute_result",
     "data": {
      "text/plain": [
       "13.223039999999997"
      ]
     },
     "metadata": {},
     "execution_count": 50
    }
   ],
   "metadata": {}
  },
  {
   "cell_type": "markdown",
   "source": [
    "Basic version of DP with either base of premium demand"
   ],
   "metadata": {}
  },
  {
   "cell_type": "code",
   "execution_count": 51,
   "source": [
    "dp_cost = 0 # mpf stands for myopic premium first; this allocation strategy fills the premium orders first and the the base orders but doesn't reserve inventory\r\n",
    "n = n_init\r\n",
    "total_base_not_filled = 0\r\n",
    "total_premium_not_filled = 0\r\n",
    "\r\n",
    "for  period in range(len(T)):\r\n",
    "    for day in range(T[period]):\r\n",
    "        premium_demand_filled = min(premium_demand[period][day], max(0, n)) # equal to the demand if n is larger than the demand, equal to n if n is smaller than the demand but positiv and equal to 0 if n is negativ\r\n",
    "        total_premium_not_filled = total_premium_not_filled + premium_demand[period][day] - premium_demand_filled\r\n",
    "        n_old = n\r\n",
    "        n = n - premium_demand_filled\r\n",
    "        if not base_demand[period][day] == 0:\r\n",
    "            print('Is the base demand filled? ', str(program.memoized_decisions[period][day][n_old - program.min_n][total_base_not_filled][np.where(r_b == base_demand[period][day])[0][0]]), 'base demand: ', str(base_demand[period][day]), 'inventory: ', str(n))\r\n",
    "            base_demand_filled = min(base_demand[period][day], max(0, n)) if program.memoized_decisions[period][day][n_old - program.min_n][total_base_not_filled][np.where(r_b == base_demand[period][day])[0][0]] else 0\r\n",
    "        else:\r\n",
    "            print('Is the base demand filled? ', 'True', 'base demand: ', str(base_demand[period][day]), 'inventory: ', str(n))\r\n",
    "            base_demand_filled = 0\r\n",
    "        total_base_not_filled = total_base_not_filled + base_demand[period][day] - base_demand_filled\r\n",
    "        n = n - base_demand_filled\r\n",
    "        dp_cost = dp_cost + h * max(0, n) + c_p * total_premium_not_filled + c_b * total_base_not_filled\r\n",
    "        print('n: ', n)\r\n",
    "        print('premium_demand_not_filled: ', total_premium_not_filled)\r\n",
    "        print('base_demand_not_filled: ', total_base_not_filled)\r\n",
    "        print('dp_cost: ', dp_cost)\r\n",
    "    if not period == len(Q):\r\n",
    "        n = n + Q[period -1]\r\n",
    "\r\n",
    "dp_cost"
   ],
   "outputs": [
    {
     "output_type": "stream",
     "name": "stdout",
     "text": [
      "Is the base demand filled?  True base demand:  2 inventory:  9\n",
      "n:  7\n",
      "premium_demand_not_filled:  0\n",
      "base_demand_not_filled:  0\n",
      "dp_cost:  0.0\n",
      "Is the base demand filled?  False base demand:  4 inventory:  7\n",
      "n:  7\n",
      "premium_demand_not_filled:  0\n",
      "base_demand_not_filled:  4\n",
      "dp_cost:  2.0\n",
      "Is the base demand filled?  True base demand:  0 inventory:  6\n",
      "n:  6\n",
      "premium_demand_not_filled:  0\n",
      "base_demand_not_filled:  4\n",
      "dp_cost:  4.0\n",
      "Is the base demand filled?  True base demand:  0 inventory:  1\n",
      "n:  1\n",
      "premium_demand_not_filled:  0\n",
      "base_demand_not_filled:  4\n",
      "dp_cost:  6.0\n",
      "Is the base demand filled?  True base demand:  0 inventory:  0\n",
      "n:  0\n",
      "premium_demand_not_filled:  2\n",
      "base_demand_not_filled:  4\n",
      "dp_cost:  12.0\n"
     ]
    },
    {
     "output_type": "execute_result",
     "data": {
      "text/plain": [
       "12.0"
      ]
     },
     "metadata": {},
     "execution_count": 51
    }
   ],
   "metadata": {}
  },
  {
   "cell_type": "markdown",
   "source": [
    "Version of DP with joint probability distribution allowing for premium and base demand on the same day"
   ],
   "metadata": {}
  },
  {
   "cell_type": "code",
   "execution_count": 52,
   "source": [
    "r_p = np.array([[0, 2/5], [1, 1/5], [3, 1/5], [5, 1/5]]).astype(object) # discreate probability distribution of premium demand (the format is [value of random variable, proba])\r\n",
    "r_p[:, 0] = r_p[:, 0].astype(int) # cast the first colum as integer\r\n",
    "r_b = np.array([[0, 3/5], [2, 1/5], [4, 1/5]]).astype(object) # discreate probability distribution of base demand\r\n",
    "r_b[:, 0] = r_b[:, 0].astype(int) # cast the first colum as integer\r\n",
    "program = dp.DynamicProgram(T, n_init, Q, pi_0, pi_b, r_b, pi_p, r_p, h, c_b, c_p, s_p, salvage, 'joint')\r\n",
    "program.V()"
   ],
   "outputs": [
    {
     "output_type": "execute_result",
     "data": {
      "text/plain": [
       "13.723873075200004"
      ]
     },
     "metadata": {},
     "execution_count": 52
    }
   ],
   "metadata": {}
  },
  {
   "cell_type": "code",
   "execution_count": 53,
   "source": [
    "dp_cost = 0 # mpf stands for myopic premium first; this allocation strategy fills the premium orders first and the the base orders but doesn't reserve inventory\r\n",
    "n = n_init\r\n",
    "total_base_not_filled = 0\r\n",
    "total_premium_not_filled = 0\r\n",
    "\r\n",
    "for  period in range(len(T)):\r\n",
    "    for day in range(T[period]):\r\n",
    "        premium_demand_filled = min(premium_demand[period][day], max(0, n)) # equal to the demand if n is larger than the demand, equal to n if n is smaller than the demand but positiv and equal to 0 if n is negativ\r\n",
    "        total_premium_not_filled = total_premium_not_filled + premium_demand[period][day] - premium_demand_filled\r\n",
    "        n_old = n\r\n",
    "        n = n - premium_demand_filled\r\n",
    "        if not base_demand[period][day] == 0:\r\n",
    "            print('Is the base demand filled? ', str(program.memoized_decisions[period][day][n_old - program.min_n][total_base_not_filled][np.where((program.joint[:, 0] == premium_demand[period][day]) & (program.joint[:, 1] == base_demand[period][day]))[0][0]]), 'base demand: ', str(base_demand[period][day]), 'inventory: ', str(n))\r\n",
    "            base_demand_filled = min(base_demand[period][day], max(0, n)) if program.memoized_decisions[period][day][n_old - program.min_n][total_base_not_filled][np.where((program.joint[:, 0] == premium_demand[period][day]) & (program.joint[:, 1] == base_demand[period][day]))[0][0]] else 0\r\n",
    "        else:\r\n",
    "            print('Is the base demand filled? ', 'True', 'base demand: ', str(base_demand[period][day]), 'inventory: ', str(n))\r\n",
    "            base_demand_filled = 0\r\n",
    "        total_base_not_filled = total_base_not_filled + base_demand[period][day] - base_demand_filled\r\n",
    "        n = n - base_demand_filled\r\n",
    "        dp_cost = dp_cost + h * max(0, n) + c_p * total_premium_not_filled + c_b * total_base_not_filled\r\n",
    "        print('n: ', n)\r\n",
    "        print('premium_demand_not_filled: ', total_premium_not_filled)\r\n",
    "        print('base_demand_not_filled: ', total_base_not_filled)\r\n",
    "        print('dp_cost: ', dp_cost)\r\n",
    "    if not period == len(Q):\r\n",
    "        n = n + Q[period -1]\r\n",
    "\r\n",
    "dp_cost"
   ],
   "outputs": [
    {
     "output_type": "stream",
     "name": "stdout",
     "text": [
      "Is the base demand filled?  True base demand:  2 inventory:  9\n",
      "n:  7\n",
      "premium_demand_not_filled:  0\n",
      "base_demand_not_filled:  0\n",
      "dp_cost:  0.0\n",
      "Is the base demand filled?  False base demand:  4 inventory:  7\n",
      "n:  7\n",
      "premium_demand_not_filled:  0\n",
      "base_demand_not_filled:  4\n",
      "dp_cost:  2.0\n",
      "Is the base demand filled?  True base demand:  0 inventory:  6\n",
      "n:  6\n",
      "premium_demand_not_filled:  0\n",
      "base_demand_not_filled:  4\n",
      "dp_cost:  4.0\n",
      "Is the base demand filled?  True base demand:  0 inventory:  1\n",
      "n:  1\n",
      "premium_demand_not_filled:  0\n",
      "base_demand_not_filled:  4\n",
      "dp_cost:  6.0\n",
      "Is the base demand filled?  True base demand:  0 inventory:  0\n",
      "n:  0\n",
      "premium_demand_not_filled:  2\n",
      "base_demand_not_filled:  4\n",
      "dp_cost:  12.0\n"
     ]
    },
    {
     "output_type": "execute_result",
     "data": {
      "text/plain": [
       "12.0"
      ]
     },
     "metadata": {},
     "execution_count": 53
    }
   ],
   "metadata": {}
  },
  {
   "cell_type": "markdown",
   "source": [
    "## Test 1: make exact same distribution and compare results to see if using expectation_premium and expectation_base gives the same result as expectation_joint\r\n",
    "Two versions of the DP algorithm were tried:\r\n",
    "1) There is a proba of having premium demand, base demand or no demand on each day and then in each case a probability distribution. This means if is not possible for base and premium demand to occure on the same day. This version uses the methods expectation_premium and expectation_base\r\n",
    "2) To make it possible to have demand from premium and base customers on the same time step, an imporved version of the DP algorithm was made. This version calculates the joint distribution between the premium and base probability distribution assuming there is no correlation between the two distributions. The joint probability distribution is used in the function expectation_joint.\r\n",
    "\r\n",
    "Expected result: small difference between the two version."
   ],
   "metadata": {}
  },
  {
   "cell_type": "code",
   "execution_count": 77,
   "source": [
    "h = 0.1 # daily unit holding cost\r\n",
    "c_p = 1 # daily unit penalty for not fulfilling a premium order (c_p is payed once per day and per unit unfulfilled)\r\n",
    "c_b = 0.5 # daily unit penalty for not fulfilling a base order (c_b is payed once per day and per unit unfulfilled)\r\n",
    "s_p = 0 # unit penalty for not having fulfilled a premium order by the last day\r\n",
    "salvage = 0 # unit salvage value for inventory unused by last day\r\n",
    "T = np.array([30, 30]) # length of periods between replenishement arrival\r\n",
    "n_init = 30 # initial inventory\r\n",
    "Q = np.array([10]) # replenishment quantities\r\n",
    "\r\n",
    "premium_demand = np.array([[0, 0, 5, 3, 1]])\r\n",
    "base_demand = np.array([[2, 4, 0, 0, 0]])"
   ],
   "outputs": [],
   "metadata": {}
  },
  {
   "cell_type": "code",
   "execution_count": 78,
   "source": [
    "pi_0 = 0 # probability of 0 demand\r\n",
    "pi_p = 3/5 # probability of demand by premium customer\r\n",
    "pi_b = 2/5 # probability of base customer\r\n",
    "\r\n",
    "r_p = np.array([[1, 1/3], [3, 1/3], [5, 1/3]]).astype(object) # discreate probability distribution of premium demand (the format is [value of random variable, proba])\r\n",
    "r_p[:, 0] = r_p[:, 0].astype(int) # cast the first colum as integer\r\n",
    "r_b = np.array([[2, 1/2], [4, 1/2]]).astype(object) # discreate probability distribution of base demand\r\n",
    "r_b[:, 0] = r_b[:, 0].astype(int) # cast the first colum as integer\r\n",
    "\r\n",
    "program = dp.DynamicProgram(T, n_init, Q, pi_0, pi_b, r_b, pi_p, r_p, h, c_b, c_p, s_p, salvage, 'standard')\r\n",
    "program.V()\r\n",
    "# took 43 seconds with T = np.array([30, 30]), n_init = 30, Q = np.array([10])"
   ],
   "outputs": [
    {
     "output_type": "execute_result",
     "data": {
      "text/plain": [
       "2576.247027613809"
      ]
     },
     "metadata": {},
     "execution_count": 78
    }
   ],
   "metadata": {}
  },
  {
   "cell_type": "code",
   "execution_count": 79,
   "source": [
    "r_p = np.array([[0, 2/5], [1, 1/5], [3, 1/5], [5, 1/5]]).astype(object) # discreate probability distribution of premium demand (the format is [value of random variable, proba])\r\n",
    "r_p[:, 0] = r_p[:, 0].astype(int) # cast the first colum as integer\r\n",
    "r_b = np.array([[0, 3/5], [2, 1/5], [4, 1/5]]).astype(object) # discreate probability distribution of base demand\r\n",
    "r_b[:, 0] = r_b[:, 0].astype(int) # cast the first colum as integer\r\n",
    "\r\n",
    "program = dp.DynamicProgram(T, n_init, Q, pi_0, pi_b, r_b, pi_p, r_p, h, c_b, c_p, s_p, salvage, 'joint')\r\n",
    "program.V()\r\n",
    "# took 628 seconds with T = np.array([30, 30]), n_init = 30, Q = np.array([10])"
   ],
   "outputs": [
    {
     "output_type": "execute_result",
     "data": {
      "text/plain": [
       "2576.2685317319097"
      ]
     },
     "metadata": {},
     "execution_count": 79
    }
   ],
   "metadata": {}
  },
  {
   "cell_type": "markdown",
   "source": [
    "The results cost-to-go is slightly different in the more general version of the algorithm which uses a joint probability distribution and allows for premium and base demand on the same day. This makes sense as the overall demand has more variance it can go from 0 to 9 whereas before it could only go from 0 to 5."
   ],
   "metadata": {}
  },
  {
   "cell_type": "markdown",
   "source": [
    "# Comparison of performance\r\n",
    "Draw outcomes out of the pdf and test DP and myopic premium first on many outcomes and average performance metric."
   ],
   "metadata": {}
  },
  {
   "cell_type": "markdown",
   "source": [
    "The performance metric is the total cost to serve customers: penalties and holding costs"
   ],
   "metadata": {}
  },
  {
   "cell_type": "code",
   "execution_count": 67,
   "source": [
    "def sample(pdf, size):\r\n",
    "    indexes = np.random.choice(list(range(len(pdf))), size=size, replace=True, p=list(pdf[:,2]))\r\n",
    "    return pdf[indexes, 0:2]"
   ],
   "outputs": [],
   "metadata": {}
  },
  {
   "cell_type": "code",
   "execution_count": 68,
   "source": [
    "def joint(distribution1, distribution2):\r\n",
    "    distribution1 = pd.DataFrame(distribution1, columns=['value_premium', 'proba_premium'])\r\n",
    "    distribution2 = pd.DataFrame(distribution2, columns=['value_base', 'proba_base'])\r\n",
    "    distribution1.loc[:, 'temp'] = 1\r\n",
    "    distribution2.loc[:, 'temp'] = 1\r\n",
    "    joint_distribution = pd.merge(distribution1, distribution2, how = 'outer')\r\n",
    "    joint_distribution.loc[:, 'joint_proba'] = joint_distribution.proba_premium * joint_distribution.proba_base\r\n",
    "    joint_distribution = joint_distribution[['value_premium', 'value_base', 'joint_proba']]\r\n",
    "    return np.array(joint_distribution)"
   ],
   "outputs": [],
   "metadata": {}
  },
  {
   "cell_type": "code",
   "execution_count": 97,
   "source": [
    "h = 0.1 # daily unit holding cost\r\n",
    "c_p = 1 # daily unit penalty for not fulfilling a premium order (c_p is payed once per day and per unit unfulfilled)\r\n",
    "c_b = 1 # daily unit penalty for not fulfilling a base order (c_b is payed once per day and per unit unfulfilled)\r\n",
    "s_p = 0 # unit penalty for not having fulfilled a premium order by the last day\r\n",
    "salvage = 0 # unit salvage value for inventory unused by last day\r\n",
    "T = np.array([10]) # length of periods between replenishement arrival\r\n",
    "n_init = 10 # initial inventory\r\n",
    "Q = np.array([]) # replenishment quantities\r\n",
    "pi_0=0\r\n",
    "pi_b=0\r\n",
    "pi_p=0"
   ],
   "outputs": [],
   "metadata": {}
  },
  {
   "cell_type": "code",
   "execution_count": 95,
   "source": [
    "r_p = np.array([[1, 1/3], [3, 1/3], [5, 1/3]]).astype(object) # discreate probability distribution of premium demand (the format is [value of random variable, proba])\r\n",
    "r_p[:, 0] = r_p[:, 0].astype(int) # cast the first colum as integer\r\n",
    "r_b = np.array([[2, 1/2], [4, 1/2]]).astype(object) # discreate probability distribution of base demand\r\n",
    "r_b[:, 0] = r_b[:, 0].astype(int) # cast the first colum as integer\r\n",
    "pdf = dp.joint(r_p,r_b)\r\n",
    "program = dp.DynamicProgram(T, n_init, Q, pi_0, pi_b, r_b, pi_p, r_p, h, c_b, c_p, s_p, salvage, 'joint')\r\n",
    "program.V()\r\n"
   ],
   "outputs": [
    {
     "output_type": "execute_result",
     "data": {
      "text/plain": [
       "162.27317990143774"
      ]
     },
     "metadata": {},
     "execution_count": 95
    }
   ],
   "metadata": {}
  },
  {
   "cell_type": "code",
   "execution_count": 96,
   "source": [
    "mpf = []\r\n",
    "for i in range(int(1e5)):\r\n",
    "    sample_ = sample(pdf, T)\r\n",
    "    premium_demand = np.array([sample_[:,0]])\r\n",
    "    base_demand = np.array([sample_[:,1]])\r\n",
    "    mpf_cost = 0 # mpf stands for myopic premium first; this allocation strategy fills the premium orders first and the the base orders but doesn't reserve inventory\r\n",
    "    n = n_init\r\n",
    "    total_premium_not_filled = 0\r\n",
    "    total_base_not_filled = 0\r\n",
    "    for  period in range(len(T)):\r\n",
    "        for day in range(T[period]):\r\n",
    "            premium_demand_filled = min(premium_demand[period][day], max(0, n)) # equal to the demand if n is larger than the demand, equal to n if n is smaller than the demand but positiv and equal to 0 if n is negativ\r\n",
    "            total_premium_not_filled = total_premium_not_filled + premium_demand[period][day] - premium_demand_filled\r\n",
    "            n = n - premium_demand_filled\r\n",
    "            base_demand_filled = min(base_demand[period][day], max(0, n))\r\n",
    "            total_base_not_filled = total_base_not_filled + base_demand[period][day] - base_demand_filled\r\n",
    "            n = n - base_demand_filled\r\n",
    "            mpf_cost = mpf_cost + h * max(0, n) + c_p * total_premium_not_filled + c_b * total_base_not_filled\r\n",
    "        if not period == len(Q):\r\n",
    "            n = n + Q[period -1]\r\n",
    "    mpf.append(mpf_cost)\r\n",
    "np.mean(mpf)"
   ],
   "outputs": [
    {
     "output_type": "execute_result",
     "data": {
      "text/plain": [
       "173.00362200000004"
      ]
     },
     "metadata": {},
     "execution_count": 96
    }
   ],
   "metadata": {}
  },
  {
   "cell_type": "code",
   "execution_count": 57,
   "source": [
    "# from collections.abc import Iterable\r\n",
    "\r\n",
    "# def flatten(l):\r\n",
    "#     for el in l:\r\n",
    "#         if isinstance(el, Iterable) and not isinstance(el, (str, bytes)):\r\n",
    "#             yield from flatten(el)\r\n",
    "#         else:\r\n",
    "#             yield el\r\n",
    "\r\n",
    "# True in list(flatten(program.memoized_decisions))"
   ],
   "outputs": [],
   "metadata": {}
  },
  {
   "cell_type": "markdown",
   "source": [
    "## What's next?"
   ],
   "metadata": {}
  },
  {
   "cell_type": "code",
   "execution_count": null,
   "source": [
    "# further improvement that could be made:\r\n",
    "# add the possibility to fulfill base orders later on\r\n",
    "# add comfort group\r\n",
    "# don't fulfill all orders at end of period but reserve inventory for next period\r\n",
    "# assess whether reserving stock for next period is worth it in practice with BD's data.\r\n",
    "# compute min and argmin at the same time to make things more efficient\r\n",
    "# plot the decision threshold to fill of not to fill a base order\r\n",
    "# add conditional probability (if some orders where already placed for the futur, the probability distribution should be updated)\r\n",
    "# add a forecast of the demand and combine with the probability distribution\r\n",
    "\r\n",
    "# check if expectation1 calling expectation2 at each step is faster than using the joint distribution and if it gives the same results"
   ],
   "outputs": [],
   "metadata": {}
  }
 ],
 "metadata": {
  "orig_nbformat": 4,
  "language_info": {
   "name": "python",
   "version": "3.8.5",
   "mimetype": "text/x-python",
   "codemirror_mode": {
    "name": "ipython",
    "version": 3
   },
   "pygments_lexer": "ipython3",
   "nbconvert_exporter": "python",
   "file_extension": ".py"
  },
  "kernelspec": {
   "name": "python3",
   "display_name": "Python 3.8.5 64-bit ('base': conda)"
  },
  "interpreter": {
   "hash": "7901e1a637ad105256cc22494fccc309d993a9b9e0b8d02c56ce23d8e565f61a"
  }
 },
 "nbformat": 4,
 "nbformat_minor": 2
}